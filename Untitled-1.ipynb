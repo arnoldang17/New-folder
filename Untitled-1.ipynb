{
 "cells": [
  {
   "cell_type": "code",
   "execution_count": 22,
   "metadata": {},
   "outputs": [
    {
     "name": "stdout",
     "output_type": "stream",
     "text": [
      "san BEDA university\n",
      "San Beda University\n"
     ]
    }
   ],
   "source": [
    "str = \"San Beda University\"\n",
    "\n",
    "\n",
    "\n",
    "print(str[0:3].lower() + str[3:8].upper() + \" \" + str[9:].lower())\n",
    "print (str.strip())"
   ]
  },
  {
   "cell_type": "code",
   "execution_count": 31,
   "metadata": {},
   "outputs": [
    {
     "name": "stdout",
     "output_type": "stream",
     "text": [
      "firstname: arnold\n",
      "lastname:  ang\n"
     ]
    }
   ],
   "source": [
    "class aaa:\n",
    "    def aaa1():\n",
    "        print (\"firstname: \" + allname[0:allname.find(\" \")])\n",
    "        print (\"lastname: \" + allname[allname.find(\" \"):])\n",
    "\n",
    "\n",
    "\n",
    "\n",
    "\n",
    "\n",
    "\n",
    "allname = input(\"Your full name: \")\n",
    "    \n",
    "aaa.aaa1()\n",
    "\n",
    "    \n",
    "\n",
    "\n"
   ]
  },
  {
   "cell_type": "code",
   "execution_count": 7,
   "metadata": {},
   "outputs": [
    {
     "name": "stdout",
     "output_type": "stream",
     "text": [
      "firstnameinitial: j\n",
      "middlenameinitial: c\n",
      "lastnameinitial: a\n"
     ]
    }
   ],
   "source": [
    "class aaa:\n",
    "    def aaa1():\n",
    "        print (\"firstnameinitial: \" + allname[0])\n",
    "        print (\"middlenameinitial: \" + allname[allname.find(\" \")+1])\n",
    "        name2 = allname[allname.find(\" \"):]\n",
    "        print (\"lastnameinitial: \" + name2[allname.find(\" \")])\n",
    "\n",
    "\n",
    "\n",
    "\n",
    "\n",
    "\n",
    "\n",
    "allname = input(\"Your full name: \")\n",
    "    \n",
    "aaa.aaa1()\n",
    "\n",
    "    "
   ]
  }
 ],
 "metadata": {
  "kernelspec": {
   "display_name": "Python 3.10.7 64-bit",
   "language": "python",
   "name": "python3"
  },
  "language_info": {
   "codemirror_mode": {
    "name": "ipython",
    "version": 3
   },
   "file_extension": ".py",
   "mimetype": "text/x-python",
   "name": "python",
   "nbconvert_exporter": "python",
   "pygments_lexer": "ipython3",
   "version": "3.10.7"
  },
  "orig_nbformat": 4,
  "vscode": {
   "interpreter": {
    "hash": "e593ac106456af50ce7af38f9671c411b49d6cd90f9b885e167f0f594e09038c"
   }
  }
 },
 "nbformat": 4,
 "nbformat_minor": 2
}
